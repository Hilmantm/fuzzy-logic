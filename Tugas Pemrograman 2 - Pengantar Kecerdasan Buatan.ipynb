{
 "cells": [
  {
   "cell_type": "markdown",
   "metadata": {},
   "source": [
    "# Tugas Pemrograman 2 - Pengantar Kecerdasan Buatan\n",
    "Kelompok 6:\n",
    "1. Hilman Taris Muttaqin\n",
    "2. Herjanto Janawisuta\n",
    "\n",
    "Definisi Tugas:<br>\n",
    "Diberikan file **bengkel.xlsx** berupa himpunan data 100 bengkel mobil yang ada di kota\n",
    "Bandung dengan dua atribut: Kualitas Servis (bilangan real 1-100; semakin tinggi semakin baik)\n",
    "dan Harga (bilangan real 1-10, semakin tinggi semakin mahal). Bangunlah sebuah sistem berbasis\n",
    "Fuzzy Logic untuk memilih 10 bengkel terbaik di kota Bandung. Sistem membaca masukan file\n",
    "bengkel.xlsx dan mengeluarkan output berupa sebuah file **peringkat.xlsx** yang berisi 10 nomor/ID\n",
    "bengkel terbaik beserta skor-nya (output Defuzzification).\n",
    "\n",
    "Poin-poin yang harus Anda desain dan analisis:\n",
    "- Jumlah dan Nama Linguistik setiap atribut input\n",
    "- Bentuk dan Batas Fungsi Keanggotaan Input\n",
    "- Aturan Inferensi\n",
    "- Metode Defuzzification\n",
    "- Bentuk dan Batas Fungsi Keanggotaan Output (sesuai metode Defuzzification)\n",
    "Catatan: Poin-poin di atas harus ada di dalam Laporan Tugas!\n",
    "\n",
    "Proses yang harus Anda implementasikan ke dalam program (bisa berbentuk fungsi/prosedur):\n",
    "- Membaca data dari file\n",
    "- Fuzzification\n",
    "- Inferensi\n",
    "- Defuzzification\n",
    "- Menyimpan output ke file\n",
    "Catatan: Proses-proses di atas harus dibangun tanpa menggunakan Library!\n",
    "\n",
    "Output Program:<br>\n",
    "Dengan masalah yang dideskripsikan di atas, output program Anda adalah sebuah file\n",
    "**peringkat.xlsx** yang berisi 10 nomor/ID bengkel terbaik beserta skor-nya (output Defuzzification)."
   ]
  },
  {
   "cell_type": "markdown",
   "metadata": {},
   "source": [
    "## Inisialisasi Kriteria Data\n",
    "\n",
    "Terdapat 2 variable yang digunakan untuk menentukan mana bengkel yang mempunyai kriteria terbaik.\n",
    "- Kualitas Servis (real value 1 - 100; semakin tinggi semakin baik).\n",
    "- Harga (real value 1 - 10; semakin rendah semakin baik).\n",
    "\n",
    "Untuk menggunakan logika fuzzy, maka kedua variable tersebut harus dirubah menggunakan linguistic variable.\n",
    "| Variable      | Linguistic Variable |\n",
    "| ----------- | ----------- |\n",
    "| Kualitas Servis      | <ul><li>Sangat Buruk</li><li>Buruk</li><li>Baik</li><li>Sangat Baik</li></ul>   |\n",
    "| Harga   | <ul><li>Sangat Murah</li><li>Murah</li><li>Mahal</li><li>Sangat Mahal</li></ul>        |\n",
    "| Output   | <ul><li>Kurang</li><li>Baik</li><li>Sangat Baik</li></ul>        |"
   ]
  },
  {
   "cell_type": "markdown",
   "metadata": {},
   "source": [
    "## Menentukan Batas dan Membuat Fungsi keanggotaan"
   ]
  },
  {
   "cell_type": "markdown",
   "metadata": {},
   "source": [
    "### Fungsi Keanggotaan Kualitas Servis"
   ]
  },
  {
   "cell_type": "markdown",
   "metadata": {},
   "source": [
    "Range dari data kualitas servis adalah angka real dari 1 - 100 yang mengindikasikan semakin tinggi angkanya, maka semakin baik pula kualitas servisnya\n",
    "\n",
    "#### Sangat Buruk\n",
    "- Kualitas servis <= 18 merupakan kualitas yang sangat buruk.\n",
    "- Kualitas servis > 25 bukan merupakan kualitas yang sangat buruk.\n",
    "<br><br>\n",
    "![Fungsi keanggotaan kualitas servis sangat buruk](https://lh3.googleusercontent.com/snrkO798qCEg5jaOIWPCMr7GuIQSBnk527FNuqwCys71H0jmhgxBCWns1KGKPcbaxDkNG4kh1WTrFaSwQ-4o=w1920-h961)\n",
    "\n",
    "#### Buruk\n",
    "- Kualitas servis <= 18 bukan merupakan kualitas yang sangat buruk.\n",
    "- Kualitas servis > 25 dan <= 45 merupakan kualitas yang buruk.\n",
    "- Kualitas servis > 50 bukan merupakan kualitas yang buruk.\n",
    "<br><br>\n",
    "![Fungsi keanggotaan kualitas servis buruk](https://lh3.googleusercontent.com/5d1PYrvUvlTuSEHnKCxvQIvrC0IIi56XyxMjX2XVjBRNLy87bd17R4qsH_OeSXEDMPsdlA1ZKwNFCjObq2Pt=w1920-h961)\n",
    "\n",
    "#### Baik\n",
    "- Kualitas servis <= 40 bukan merupakan kualitas yang bagus.\n",
    "- Kualitas servis > 60 dan <= 75 merupakan kualitas yang baik.\n",
    "- Kualitas servis > 80 bukan merupakan kualitas yang baik.\n",
    "<br><br>\n",
    "![Fungsi keanggotaan kualitas servis baik](https://lh3.googleusercontent.com/ackfu1HF2wqGBa2ypdWogk2t8JEbnGKYfl0CfCPZqEVO6HMXIn8iADBKGLSXkUHmMVypDCi7s66mqhNYS8sm=w1920-h961)\n",
    "\n",
    "\n",
    "#### Sangat Baik\n",
    "- Kualitas servis <= 70 bukan merupakan kualitas yang sangat baik.\n",
    "- Kualitas servis > 85 merupakan kualitas yang sangat baik.\n",
    "<br><br>\n",
    "![Fungsi keanggotaan kualitas servis sangat baik](https://lh6.googleusercontent.com/pPkhjlQIhj5aQHqj-PPOmAhJjMZCeW8O45lXpElTRAVyeyq0jsPU4ti54TuLSob-wqQosDWWNIK0ZMtbZDFJ=w1920-h961)\n",
    "\n",
    "Sehingga ketika digabungkan, fungsi keanggotaan akan menjadi seperti berikut\n",
    "<br><br>\n",
    "![Fungsi keanggotaan kualitas servis - dengan warna](https://lh3.googleusercontent.com/wnBdLe3xTSu-u7_fKw9Jv9h2bp7f_J4s0ScyF1WiOm2Gs7SvR_zDpsz0Sa3iKsOL6TquSr6FEta6QBnzuio8=w1920-h961-rw)\n",
    "\n",
    "> Keterangan warna:\n",
    "> - Kuning = sangat buruk\n",
    "> - Orange = buruk\n",
    "> - Ungu = baik\n",
    "> - Hijau = sangat baik\n",
    "> "
   ]
  },
  {
   "cell_type": "markdown",
   "metadata": {},
   "source": [
    "### Fungsi Keanggotaan Harga"
   ]
  },
  {
   "cell_type": "markdown",
   "metadata": {},
   "source": [
    "### Fugsi Keanggotaan Output"
   ]
  },
  {
   "cell_type": "code",
   "execution_count": 4,
   "metadata": {},
   "outputs": [],
   "source": []
  }
 ],
 "metadata": {
  "interpreter": {
   "hash": "fa3fbe70898b14a15e6131e9bb5bd7151819ea92be8c165abbe7792eb60274d8"
  },
  "kernelspec": {
   "display_name": "Python 3.9.4 64-bit",
   "language": "python",
   "name": "python3"
  },
  "language_info": {
   "codemirror_mode": {
    "name": "ipython",
    "version": 3
   },
   "file_extension": ".py",
   "mimetype": "text/x-python",
   "name": "python",
   "nbconvert_exporter": "python",
   "pygments_lexer": "ipython3",
   "version": "3.9.4"
  },
  "orig_nbformat": 4
 },
 "nbformat": 4,
 "nbformat_minor": 2
}
