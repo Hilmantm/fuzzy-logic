{
 "cells": [
  {
   "cell_type": "markdown",
   "metadata": {},
   "source": [
    "# Tugas Pemrograman 2 - Pengantar Kecerdasan Buatan\n",
    "Kelompok 6:\n",
    "1. Hilman Taris Muttaqin\n",
    "2. Herjanto Janawisuta\n",
    "\n",
    "Definisi Tugas:<br>\n",
    "Diberikan file **bengkel.xlsx** berupa himpunan data 100 bengkel mobil yang ada di kota\n",
    "Bandung dengan dua atribut: Kualitas Servis (bilangan real 1-100; semakin tinggi semakin baik)\n",
    "dan Harga (bilangan real 1-10, semakin tinggi semakin mahal). Bangunlah sebuah sistem berbasis\n",
    "Fuzzy Logic untuk memilih 10 bengkel terbaik di kota Bandung. Sistem membaca masukan file\n",
    "bengkel.xlsx dan mengeluarkan output berupa sebuah file **peringkat.xlsx** yang berisi 10 nomor/ID\n",
    "bengkel terbaik beserta skor-nya (output Defuzzification).\n",
    "\n",
    "Poin-poin yang harus Anda desain dan analisis:\n",
    "- Jumlah dan Nama Linguistik setiap atribut input\n",
    "- Bentuk dan Batas Fungsi Keanggotaan Input\n",
    "- Aturan Inferensi\n",
    "- Metode Defuzzification\n",
    "- Bentuk dan Batas Fungsi Keanggotaan Output (sesuai metode Defuzzification)\n",
    "Catatan: Poin-poin di atas harus ada di dalam Laporan Tugas!\n",
    "\n",
    "Proses yang harus Anda implementasikan ke dalam program (bisa berbentuk fungsi/prosedur):\n",
    "- Membaca data dari file\n",
    "- Fuzzification\n",
    "- Inferensi\n",
    "- Defuzzification\n",
    "- Menyimpan output ke file\n",
    "Catatan: Proses-proses di atas harus dibangun tanpa menggunakan Library!\n",
    "\n",
    "Output Program:<br>\n",
    "Dengan masalah yang dideskripsikan di atas, output program Anda adalah sebuah file\n",
    "**peringkat.xlsx** yang berisi 10 nomor/ID bengkel terbaik beserta skor-nya (output Defuzzification)."
   ]
  },
  {
   "cell_type": "code",
   "execution_count": 4,
   "metadata": {},
   "outputs": [],
   "source": []
  }
 ],
 "metadata": {
  "interpreter": {
   "hash": "fa3fbe70898b14a15e6131e9bb5bd7151819ea92be8c165abbe7792eb60274d8"
  },
  "kernelspec": {
   "display_name": "Python 3.9.4 64-bit",
   "language": "python",
   "name": "python3"
  },
  "language_info": {
   "codemirror_mode": {
    "name": "ipython",
    "version": 3
   },
   "file_extension": ".py",
   "mimetype": "text/x-python",
   "name": "python",
   "nbconvert_exporter": "python",
   "pygments_lexer": "ipython3",
   "version": "3.9.4"
  },
  "orig_nbformat": 4
 },
 "nbformat": 4,
 "nbformat_minor": 2
}
